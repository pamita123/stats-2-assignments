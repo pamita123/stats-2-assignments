{
 "cells": [
  {
   "cell_type": "markdown",
   "metadata": {},
   "source": [
    "### Problem 1"
   ]
  },
  {
   "cell_type": "markdown",
   "metadata": {},
   "source": [
    "H0 : μ=25 , H1 : μ≠25 \n",
    "--> correctly stated hypothesis \n",
    "\n",
    "H0 : σ>10, H1:σ=10\n",
    "--> correctly stated\n",
    "\n",
    "H0: x̅ =50, x̅ ≠ 50\n",
    "--> No, hypothesis are not made on sample\n",
    "\n",
    "H0: p=0.1, H1:p=0.5\n",
    "--> No\n",
    "\n",
    "H0: s=30, H1:s>30\n",
    "-->No"
   ]
  },
  {
   "cell_type": "markdown",
   "metadata": {},
   "source": [
    "### Problem 2"
   ]
  },
  {
   "cell_type": "markdown",
   "metadata": {},
   "source": [
    "##### H0: mu=52\n",
    "##### H1: mu!=52"
   ]
  },
  {
   "cell_type": "code",
   "execution_count": 1,
   "metadata": {},
   "outputs": [],
   "source": [
    "from scipy import stats\n",
    "import numpy as np\n",
    "\n",
    "def test_score(sigma,n,mu,x_mean):\n",
    "    SE = sigma/np.sqrt(n)\n",
    "    z_stat = (x_mean-mu)/SE\n",
    "    return z_stat"
   ]
  },
  {
   "cell_type": "code",
   "execution_count": 2,
   "metadata": {},
   "outputs": [
    {
     "data": {
      "text/plain": [
       "1.7777777777777715"
      ]
     },
     "execution_count": 2,
     "metadata": {},
     "output_type": "execute_result"
    }
   ],
   "source": [
    "z_score=test_score(4.5,100,52,52.8) #use population deviation for z-test\n",
    "z_score"
   ]
  },
  {
   "cell_type": "code",
   "execution_count": 3,
   "metadata": {},
   "outputs": [
    {
     "data": {
      "text/plain": [
       "1.959963984540054"
      ]
     },
     "execution_count": 3,
     "metadata": {},
     "output_type": "execute_result"
    }
   ],
   "source": [
    "alpha = 0.05\n",
    "p=1-alpha/2\n",
    "z_crticial=stats.norm.ppf(p)\n",
    "z_crticial"
   ]
  },
  {
   "cell_type": "code",
   "execution_count": 4,
   "metadata": {},
   "outputs": [],
   "source": [
    "def check_test(z_score,z_critical):\n",
    "    if z_score>z_critical:\n",
    "        print(\"Null Hypothesis Rejected\")\n",
    "    else:\n",
    "        print(\"Null Hypothesis Accepted\")"
   ]
  },
  {
   "cell_type": "code",
   "execution_count": null,
   "metadata": {},
   "outputs": [],
   "source": []
  },
  {
   "cell_type": "code",
   "execution_count": 5,
   "metadata": {},
   "outputs": [
    {
     "name": "stdout",
     "output_type": "stream",
     "text": [
      "Null Hypothesis Accepted\n"
     ]
    }
   ],
   "source": [
    "check_test(z_score, z_crticial)"
   ]
  },
  {
   "cell_type": "markdown",
   "metadata": {},
   "source": [
    "### Problem 3"
   ]
  },
  {
   "cell_type": "markdown",
   "metadata": {},
   "source": [
    "##### H0: mu = 34\n",
    "##### H1:mu != 34"
   ]
  },
  {
   "cell_type": "code",
   "execution_count": 6,
   "metadata": {},
   "outputs": [
    {
     "data": {
      "text/plain": [
       "-1.3258252147247767"
      ]
     },
     "execution_count": 6,
     "metadata": {},
     "output_type": "execute_result"
    }
   ],
   "source": [
    "z_score_2 = test_score(8,50,34,32.5)\n",
    "z_score_2"
   ]
  },
  {
   "cell_type": "code",
   "execution_count": 7,
   "metadata": {},
   "outputs": [
    {
     "data": {
      "text/plain": [
       "2.5758293035489004"
      ]
     },
     "execution_count": 7,
     "metadata": {},
     "output_type": "execute_result"
    }
   ],
   "source": [
    "alpha = 0.01\n",
    "p=1-alpha/2\n",
    "z_critical_2=stats.norm.ppf(p)\n",
    "z_critical_2"
   ]
  },
  {
   "cell_type": "code",
   "execution_count": 8,
   "metadata": {},
   "outputs": [
    {
     "name": "stdout",
     "output_type": "stream",
     "text": [
      "Null Hypothesis Accepted\n"
     ]
    }
   ],
   "source": [
    "check_test(abs(z_score_2), z_critical_2)"
   ]
  },
  {
   "cell_type": "markdown",
   "metadata": {},
   "source": [
    "### Problem Statement 4"
   ]
  },
  {
   "cell_type": "markdown",
   "metadata": {},
   "source": [
    "##### H0: mu  =  1135\n",
    "##### H1: mu != 1135"
   ]
  },
  {
   "cell_type": "code",
   "execution_count": 9,
   "metadata": {},
   "outputs": [],
   "source": [
    "x=[1008, 812, 1117, 1323, 1308, 1415, 831, 1021, 1287, 851, 930, 730, 699, 872, 913, 944, 954, 987, 1695, 995, 1003, 994]"
   ]
  },
  {
   "cell_type": "code",
   "execution_count": 10,
   "metadata": {},
   "outputs": [
    {
     "data": {
      "text/plain": [
       "22"
      ]
     },
     "execution_count": 10,
     "metadata": {},
     "output_type": "execute_result"
    }
   ],
   "source": [
    "len(x)"
   ]
  },
  {
   "cell_type": "code",
   "execution_count": 11,
   "metadata": {},
   "outputs": [
    {
     "data": {
      "text/plain": [
       "1031.3181818181818"
      ]
     },
     "execution_count": 11,
     "metadata": {},
     "output_type": "execute_result"
    }
   ],
   "source": [
    "np.mean(x)"
   ]
  },
  {
   "cell_type": "code",
   "execution_count": 12,
   "metadata": {},
   "outputs": [
    {
     "data": {
      "text/plain": [
       "240.37458592463878"
      ]
     },
     "execution_count": 12,
     "metadata": {},
     "output_type": "execute_result"
    }
   ],
   "source": [
    "np.std(x,ddof=1)"
   ]
  },
  {
   "cell_type": "code",
   "execution_count": 13,
   "metadata": {},
   "outputs": [
    {
     "data": {
      "text/plain": [
       "-2.6085257906525623"
      ]
     },
     "execution_count": 13,
     "metadata": {},
     "output_type": "execute_result"
    }
   ],
   "source": [
    "test_score(np.std(x,ddof=1),22,1165,np.mean(x))"
   ]
  },
  {
   "cell_type": "markdown",
   "metadata": {},
   "source": [
    "Since n<30, we use ttest"
   ]
  },
  {
   "cell_type": "code",
   "execution_count": 14,
   "metadata": {},
   "outputs": [
    {
     "name": "stdout",
     "output_type": "stream",
     "text": [
      "0.016406635559183057\n",
      "-2.6085257906525623\n"
     ]
    }
   ],
   "source": [
    "t_value,p_value = stats.ttest_1samp(a=x,popmean=1165)\n",
    "print(p_value)\n",
    "print(t_value)"
   ]
  },
  {
   "cell_type": "code",
   "execution_count": 15,
   "metadata": {},
   "outputs": [],
   "source": [
    "alpha_value = 0.5"
   ]
  },
  {
   "cell_type": "code",
   "execution_count": 16,
   "metadata": {},
   "outputs": [
    {
     "name": "stdout",
     "output_type": "stream",
     "text": [
      "rejecting null hypothesis\n"
     ]
    }
   ],
   "source": [
    "if p_value<alpha_value:\n",
    "    print(\"rejecting null hypothesis\")\n",
    "else:\n",
    "    print(\"accept null hypothesis\")"
   ]
  },
  {
   "cell_type": "markdown",
   "metadata": {},
   "source": [
    "### Problem Statement 5"
   ]
  },
  {
   "cell_type": "markdown",
   "metadata": {},
   "source": [
    "##### H0 : mu = 48432\n",
    "##### H1 : mu != 48432"
   ]
  },
  {
   "cell_type": "code",
   "execution_count": 17,
   "metadata": {},
   "outputs": [],
   "source": [
    "mu = 48432\n",
    "n = 400\n",
    "x_mean = 48574\n",
    "x_dev = 2000"
   ]
  },
  {
   "cell_type": "markdown",
   "metadata": {},
   "source": [
    "only deviation with respect to sample is given so t-test"
   ]
  },
  {
   "cell_type": "code",
   "execution_count": 18,
   "metadata": {},
   "outputs": [
    {
     "data": {
      "text/plain": [
       "1.42"
      ]
     },
     "execution_count": 18,
     "metadata": {},
     "output_type": "execute_result"
    }
   ],
   "source": [
    "t_test= test_score(x_dev,n,mu,x_mean) # can be same but sigma is replaced by s\n",
    "t_test"
   ]
  },
  {
   "cell_type": "code",
   "execution_count": 19,
   "metadata": {},
   "outputs": [
    {
     "data": {
      "text/plain": [
       "1.42"
      ]
     },
     "execution_count": 19,
     "metadata": {},
     "output_type": "execute_result"
    }
   ],
   "source": [
    "abs(1.42)"
   ]
  },
  {
   "cell_type": "markdown",
   "metadata": {},
   "source": [
    "Taking alpha = 5%"
   ]
  },
  {
   "cell_type": "code",
   "execution_count": 20,
   "metadata": {},
   "outputs": [
    {
     "data": {
      "text/plain": [
       "-1.9322728670445897"
      ]
     },
     "execution_count": 20,
     "metadata": {},
     "output_type": "execute_result"
    }
   ],
   "source": [
    "alpha = 0.0270167\n",
    "p =1-alpha\n",
    "df = n-1\n",
    "value = stats.t.ppf(0.0270167,399)\n",
    "value"
   ]
  },
  {
   "cell_type": "code",
   "execution_count": 21,
   "metadata": {},
   "outputs": [
    {
     "data": {
      "text/plain": [
       "0.15638854177674055"
      ]
     },
     "execution_count": 21,
     "metadata": {},
     "output_type": "execute_result"
    }
   ],
   "source": [
    "p_1=(1-stats.t.cdf(abs(t_test),df))*2\n",
    "\n",
    "p_1"
   ]
  },
  {
   "cell_type": "code",
   "execution_count": 22,
   "metadata": {},
   "outputs": [
    {
     "name": "stdout",
     "output_type": "stream",
     "text": [
      "Hypothesis rejected\n"
     ]
    }
   ],
   "source": [
    "#for two tail test:\n",
    "if abs(t_test)>value:\n",
    "    print(\"Hypothesis rejected\")\n",
    "else:\n",
    "    print(\"Hypothesis accepted\")"
   ]
  },
  {
   "cell_type": "markdown",
   "metadata": {},
   "source": [
    "### Problem statement 6"
   ]
  },
  {
   "cell_type": "markdown",
   "metadata": {},
   "source": [
    "##### H0: mu >=32.28\n",
    "##### H1: mu<32.28"
   ]
  },
  {
   "cell_type": "code",
   "execution_count": 23,
   "metadata": {},
   "outputs": [],
   "source": [
    "np.random.seed(12)"
   ]
  },
  {
   "cell_type": "code",
   "execution_count": 24,
   "metadata": {},
   "outputs": [],
   "source": [
    "mu =32.28\n",
    "x_bar = 31.67\n",
    "n=19\n",
    "s=1.29"
   ]
  },
  {
   "cell_type": "code",
   "execution_count": 25,
   "metadata": {},
   "outputs": [
    {
     "data": {
      "text/plain": [
       "-2.06118477175179"
      ]
     },
     "execution_count": 25,
     "metadata": {},
     "output_type": "execute_result"
    }
   ],
   "source": [
    "t_test= test_score(s,n,mu,x_bar) # can be same but sigma is replaced by s\n",
    "t_test"
   ]
  },
  {
   "cell_type": "code",
   "execution_count": 26,
   "metadata": {},
   "outputs": [
    {
     "data": {
      "text/plain": [
       "1.7340636066175354"
      ]
     },
     "execution_count": 26,
     "metadata": {},
     "output_type": "execute_result"
    }
   ],
   "source": [
    "alpha = 0.05\n",
    "p = 1-alpha\n",
    "df = n-1\n",
    "value = stats.t.ppf(1-0.05,18)\n",
    "value"
   ]
  },
  {
   "cell_type": "code",
   "execution_count": 27,
   "metadata": {},
   "outputs": [
    {
     "name": "stdout",
     "output_type": "stream",
     "text": [
      "H0 rejected\n"
     ]
    }
   ],
   "source": [
    "#for left tail:\n",
    "if t_test< (-value):\n",
    "    print(\"H0 rejected\")\n",
    "else:\n",
    "    print(\"H0 acceptd\")"
   ]
  },
  {
   "cell_type": "markdown",
   "metadata": {},
   "source": [
    "### Problem 7"
   ]
  },
  {
   "cell_type": "code",
   "execution_count": 28,
   "metadata": {},
   "outputs": [],
   "source": [
    "#for 48.5<x_bar<51.5"
   ]
  },
  {
   "cell_type": "markdown",
   "metadata": {},
   "source": [
    "### Problem 8"
   ]
  },
  {
   "cell_type": "code",
   "execution_count": 29,
   "metadata": {},
   "outputs": [
    {
     "data": {
      "text/plain": [
       "5.333333333333333"
      ]
     },
     "execution_count": 29,
     "metadata": {},
     "output_type": "execute_result"
    }
   ],
   "source": [
    "ans= test_score(1.5,16,10,12)\n",
    "ans"
   ]
  },
  {
   "cell_type": "markdown",
   "metadata": {},
   "source": [
    "### Problem 9"
   ]
  },
  {
   "cell_type": "code",
   "execution_count": 30,
   "metadata": {},
   "outputs": [
    {
     "data": {
      "text/plain": [
       "2.602480294995493"
      ]
     },
     "execution_count": 30,
     "metadata": {},
     "output_type": "execute_result"
    }
   ],
   "source": [
    "p = 0.99\n",
    "df = 16-1\n",
    "t_score = stats.t.ppf(p,df)\n",
    "t_score"
   ]
  },
  {
   "cell_type": "code",
   "execution_count": 31,
   "metadata": {},
   "outputs": [
    {
     "data": {
      "text/plain": [
       "0.010000000000311204"
      ]
     },
     "execution_count": 31,
     "metadata": {},
     "output_type": "execute_result"
    }
   ],
   "source": [
    "(1-stats.t.cdf(abs(t_score),df))"
   ]
  },
  {
   "cell_type": "markdown",
   "metadata": {},
   "source": [
    "### Problem 10"
   ]
  },
  {
   "cell_type": "code",
   "execution_count": 32,
   "metadata": {},
   "outputs": [],
   "source": [
    "n = 25\n",
    "sam_mean = 60\n",
    "s = 4\n",
    "p =0.95\n",
    "alpha = 1-p\n",
    "p_new = 1-(alpha)/2\n",
    "\n",
    "def get_ci(n,sam_mean,s,p):\n",
    "    lv = sam_mean - stats.t.ppf(p,n-1)*(s/np.sqrt(n))\n",
    "    hv = sam_mean + stats.t.ppf(p,n-1)*(s/np.sqrt(n))\n",
    "    ls = (sam_mean-lv)/(s/np.sqrt(n))\n",
    "    hs = (sam_mean-hv)/(s/np.sqrt(n))\n",
    "    return ls,hs"
   ]
  },
  {
   "cell_type": "code",
   "execution_count": 33,
   "metadata": {},
   "outputs": [
    {
     "data": {
      "text/plain": [
       "(2.063898561628017, -2.063898561628017)"
      ]
     },
     "execution_count": 33,
     "metadata": {},
     "output_type": "execute_result"
    }
   ],
   "source": [
    "get_ci(n,sam_mean,s,p_new)"
   ]
  },
  {
   "cell_type": "code",
   "execution_count": 34,
   "metadata": {},
   "outputs": [
    {
     "data": {
      "text/plain": [
       "0.85"
      ]
     },
     "execution_count": 34,
     "metadata": {},
     "output_type": "execute_result"
    }
   ],
   "source": [
    "#p(-t0.05<t<t0.1)\n",
    "prob = 1-0.05-0.1\n",
    "prob"
   ]
  },
  {
   "cell_type": "markdown",
   "metadata": {},
   "source": [
    "### Problem Statement 11\n",
    "\n",
    "##### H0: mu1-mu2 =0\n",
    "##### H1: mu1-mu2 != 0"
   ]
  },
  {
   "cell_type": "code",
   "execution_count": 35,
   "metadata": {},
   "outputs": [],
   "source": [
    "n1= 1200\n",
    "x1 =452\n",
    "s1=212\n",
    "\n",
    "n2=800\n",
    "x2=523\n",
    "s2=185"
   ]
  },
  {
   "cell_type": "code",
   "execution_count": 36,
   "metadata": {},
   "outputs": [],
   "source": [
    "def ztest(mean1,mean2,s1,s2,n1,n2):\n",
    "    se = np.sqrt(s1**2/n1 +s2**2/n2)\n",
    "    #print(se)\n",
    "    z_val = (mean1-mean2)/se\n",
    "    return (z_val)"
   ]
  },
  {
   "cell_type": "code",
   "execution_count": 37,
   "metadata": {},
   "outputs": [],
   "source": [
    "z=ztest(x1,x2,s1,s2,n1,n2)"
   ]
  },
  {
   "cell_type": "code",
   "execution_count": 38,
   "metadata": {},
   "outputs": [
    {
     "data": {
      "text/plain": [
       "2.2553835335706493e-15"
      ]
     },
     "execution_count": 38,
     "metadata": {},
     "output_type": "execute_result"
    }
   ],
   "source": [
    "p_values = stats.norm.sf(abs(z))*2\n",
    "p_values"
   ]
  },
  {
   "cell_type": "code",
   "execution_count": 39,
   "metadata": {},
   "outputs": [
    {
     "name": "stdout",
     "output_type": "stream",
     "text": [
      "Hypothesis Rejected\n"
     ]
    }
   ],
   "source": [
    "if p_values<0.05:\n",
    "    print(\"Hypothesis Rejected\")\n",
    "else:\n",
    "    print(\"Hypothesis Accepted\")"
   ]
  },
  {
   "cell_type": "markdown",
   "metadata": {},
   "source": [
    "### Problem Statement 12"
   ]
  },
  {
   "cell_type": "code",
   "execution_count": 40,
   "metadata": {},
   "outputs": [],
   "source": [
    "n1 = 100\n",
    "x1 = 308\n",
    "s1 = 84\n",
    "\n",
    "n2=100\n",
    "x2=254\n",
    "s2=67"
   ]
  },
  {
   "cell_type": "code",
   "execution_count": 41,
   "metadata": {},
   "outputs": [
    {
     "name": "stdout",
     "output_type": "stream",
     "text": [
      "5.025702668336442\n"
     ]
    }
   ],
   "source": [
    "z=ztest(x1,x2,s1,s2,n1,n2)\n",
    "print(z)"
   ]
  },
  {
   "cell_type": "code",
   "execution_count": 42,
   "metadata": {},
   "outputs": [
    {
     "data": {
      "text/plain": [
       "5.015925256430319e-07"
      ]
     },
     "execution_count": 42,
     "metadata": {},
     "output_type": "execute_result"
    }
   ],
   "source": [
    "p_values = stats.norm.sf(abs(z))*2\n",
    "p_values"
   ]
  },
  {
   "cell_type": "code",
   "execution_count": 43,
   "metadata": {},
   "outputs": [
    {
     "name": "stdout",
     "output_type": "stream",
     "text": [
      "Hypothesis Rejected\n"
     ]
    }
   ],
   "source": [
    "if p_values<0.05:\n",
    "    print(\"Hypothesis Rejected\")\n",
    "else:\n",
    "    print(\"Hypothesis Accepted\")"
   ]
  },
  {
   "cell_type": "markdown",
   "metadata": {},
   "source": [
    "### Problem Statement 13"
   ]
  },
  {
   "cell_type": "markdown",
   "metadata": {},
   "source": [
    "##### H0 : mu1 = mu2\n",
    "##### H1 : mu1 != mu2"
   ]
  },
  {
   "cell_type": "code",
   "execution_count": 44,
   "metadata": {},
   "outputs": [],
   "source": [
    "x1=0.317\n",
    "s1=0.12\n",
    "x2=0.21\n",
    "s2=0.11\n",
    "n1=14\n",
    "n2=9"
   ]
  },
  {
   "cell_type": "code",
   "execution_count": 45,
   "metadata": {},
   "outputs": [],
   "source": [
    "#for pooled estimate of the common population variance:\n",
    "def get_tscore(x1,x2,s1,s2,n1,n2):\n",
    "    s_2 = ((n1-1)*(s1**2)+(n2-1)*(s2**2)) / (n1+n2-2)\n",
    "    se = np.sqrt(s_2*(1/n1+1/n2))\n",
    "    t = (x1-x2)/se\n",
    "    return t\n",
    "    "
   ]
  },
  {
   "cell_type": "code",
   "execution_count": 46,
   "metadata": {},
   "outputs": [
    {
     "data": {
      "text/plain": [
       "2.15355322387416"
      ]
     },
     "execution_count": 46,
     "metadata": {},
     "output_type": "execute_result"
    }
   ],
   "source": [
    "t_value=get_tscore(x1,x2,s1,s2,n1,n2)\n",
    "t_value"
   ]
  },
  {
   "cell_type": "code",
   "execution_count": 47,
   "metadata": {},
   "outputs": [
    {
     "data": {
      "text/plain": [
       "2.079613844727662"
      ]
     },
     "execution_count": 47,
     "metadata": {},
     "output_type": "execute_result"
    }
   ],
   "source": [
    "alpha = 0.05\n",
    "p = 1-alpha/2\n",
    "df = n1+n2-2\n",
    "t_score = stats.t.ppf(p,df)\n",
    "t_score"
   ]
  },
  {
   "cell_type": "code",
   "execution_count": 48,
   "metadata": {},
   "outputs": [
    {
     "name": "stdout",
     "output_type": "stream",
     "text": [
      "Based on this data Null Hypotheis is rejected\n"
     ]
    }
   ],
   "source": [
    "# At 5%\n",
    "if(abs(t_value)>t_score):\n",
    "    print(\"Based on this data Null Hypotheis is rejected\")\n",
    "else:\n",
    "    print(\"Based on this data Null Hypothesis is accepted\")"
   ]
  },
  {
   "cell_type": "markdown",
   "metadata": {},
   "source": [
    "### Problem statement 14\n"
   ]
  },
  {
   "cell_type": "code",
   "execution_count": 49,
   "metadata": {},
   "outputs": [],
   "source": [
    "n1 = 15\n",
    "n2 = 12\n",
    "x1 = 6598\n",
    "x2 = 6870\n",
    "s1 = 844\n",
    "s2 = 669"
   ]
  },
  {
   "cell_type": "code",
   "execution_count": 50,
   "metadata": {},
   "outputs": [
    {
     "data": {
      "text/plain": [
       "-0.9098300343990461"
      ]
     },
     "execution_count": 50,
     "metadata": {},
     "output_type": "execute_result"
    }
   ],
   "source": [
    "t_value=get_tscore(x1,x2,s1,s2,n1,n2)\n",
    "t_value"
   ]
  },
  {
   "cell_type": "code",
   "execution_count": 51,
   "metadata": {},
   "outputs": [
    {
     "data": {
      "text/plain": [
       "2.059538552753294"
      ]
     },
     "execution_count": 51,
     "metadata": {},
     "output_type": "execute_result"
    }
   ],
   "source": [
    "alpha = 0.05\n",
    "p = 1-alpha/2\n",
    "df = n1+n2-2\n",
    "t_score = stats.t.ppf(p,df)\n",
    "t_score"
   ]
  },
  {
   "cell_type": "code",
   "execution_count": 52,
   "metadata": {},
   "outputs": [
    {
     "name": "stdout",
     "output_type": "stream",
     "text": [
      "Based on this data Null Hypothesis is accepted\n"
     ]
    }
   ],
   "source": [
    "# At 5%\n",
    "if(abs(t_value)>t_score):\n",
    "    print(\"Based on this data Null Hypotheis is rejected\")\n",
    "else:\n",
    "    print(\"Based on this data Null Hypothesis is accepted\")"
   ]
  },
  {
   "cell_type": "markdown",
   "metadata": {},
   "source": [
    "### Problem Statement 15"
   ]
  },
  {
   "cell_type": "code",
   "execution_count": 53,
   "metadata": {},
   "outputs": [],
   "source": [
    "#population 1: 1980\n",
    "\n",
    "#since we know, p_1 = x1/n1. Data must have got some error so making change\n",
    "\n",
    "#n1 = 1000\n",
    "n1=100\n",
    "x1 = 53\n",
    "p_1 = 0.53\n",
    "\n",
    "#population 2:1985\n",
    "n2 = 100\n",
    "x2 = 43\n",
    "#p_2 = 0.53\n",
    "p_2 = 0.43\n"
   ]
  },
  {
   "cell_type": "markdown",
   "metadata": {},
   "source": [
    "#### For population proportion comparison when hypothesized difference is 0:\n",
    "\n",
    "##### H0: p1-p2 = 0\n",
    "##### H1: p1-p2!= 0"
   ]
  },
  {
   "cell_type": "code",
   "execution_count": 54,
   "metadata": {},
   "outputs": [],
   "source": [
    "def get_zscore(x1,x2,p_1,p_2,n1,n2,D=0): #D = difference in population proportion\n",
    "    p = (x1+x2)/(n1+n2)\n",
    "    numerator = (p_1-p_2)-D\n",
    "    denominator = np.sqrt(p*(1-p)*(1/n1 + 1/n2))\n",
    "    z_value = numerator/denominator\n",
    "    return z_value\n",
    "    "
   ]
  },
  {
   "cell_type": "code",
   "execution_count": 55,
   "metadata": {},
   "outputs": [
    {
     "data": {
      "text/plain": [
       "1.4153462926807452"
      ]
     },
     "execution_count": 55,
     "metadata": {},
     "output_type": "execute_result"
    }
   ],
   "source": [
    "get_zscore(x1,x2,p_1,p_2,n1,n2)"
   ]
  },
  {
   "cell_type": "code",
   "execution_count": 56,
   "metadata": {},
   "outputs": [],
   "source": [
    "z_value = get_zscore(x1,x2,p_1,p_2,n1,n2)"
   ]
  },
  {
   "cell_type": "code",
   "execution_count": 57,
   "metadata": {},
   "outputs": [
    {
     "data": {
      "text/plain": [
       "1.959963984540054"
      ]
     },
     "execution_count": 57,
     "metadata": {},
     "output_type": "execute_result"
    }
   ],
   "source": [
    "alpha = 0.05\n",
    "p=1-alpha/2\n",
    "z_crticial=stats.norm.ppf(p)\n",
    "z_crticial"
   ]
  },
  {
   "cell_type": "code",
   "execution_count": 58,
   "metadata": {},
   "outputs": [
    {
     "name": "stdout",
     "output_type": "stream",
     "text": [
      "Null Hypothesis Accepted\n"
     ]
    }
   ],
   "source": [
    "if z_value>z_crticial:\n",
    "    print(\"Null Hypothesis Rejected\")\n",
    "else:\n",
    "    print(\"Null Hypothesis Accepted\")"
   ]
  },
  {
   "cell_type": "markdown",
   "metadata": {},
   "source": [
    "### Problem statement 16"
   ]
  },
  {
   "cell_type": "code",
   "execution_count": 59,
   "metadata": {},
   "outputs": [],
   "source": [
    "#population 1 : With sweepstakes\n",
    "n1=300\n",
    "x1=120\n",
    "p_1=0.40\n",
    "\n",
    "#population 2: Without\n",
    "n2=700\n",
    "x2=140\n",
    "p_2=0.20\n",
    "\n",
    "D=0.1"
   ]
  },
  {
   "cell_type": "markdown",
   "metadata": {},
   "source": [
    "##### H0: p1-p2 <=0.1\n",
    "##### H0: p1-p2>0.1 \n",
    "i.e. one tail test"
   ]
  },
  {
   "cell_type": "code",
   "execution_count": 60,
   "metadata": {},
   "outputs": [],
   "source": [
    "\n",
    "def get_zscore(x1,x2,p_1,p_2,n1,n2,D=0): #D = difference in population proportion\n",
    "    numerator = (p_1-p_2)-D\n",
    "    denominator = np.sqrt(p_1*(1-p_1)/n1 +p_2*(1-p_2)/n2)\n",
    "    z_value = numerator/denominator\n",
    "    return z_value\n",
    "    \n"
   ]
  },
  {
   "cell_type": "code",
   "execution_count": 61,
   "metadata": {},
   "outputs": [
    {
     "data": {
      "text/plain": [
       "3.1180478223116177"
      ]
     },
     "execution_count": 61,
     "metadata": {},
     "output_type": "execute_result"
    }
   ],
   "source": [
    "z_value = get_zscore(x1,x2,p_1,p_2,n1,n2,D)\n",
    "z_value"
   ]
  },
  {
   "cell_type": "code",
   "execution_count": 62,
   "metadata": {},
   "outputs": [
    {
     "data": {
      "text/plain": [
       "2.3263478740408408"
      ]
     },
     "execution_count": 62,
     "metadata": {},
     "output_type": "execute_result"
    }
   ],
   "source": [
    "#since z_value > 3, let's take alpha=0.01 so value would be nearer \n",
    "alpha = 0.01\n",
    "p=1-alpha\n",
    "z_crticial=stats.norm.ppf(p)\n",
    "z_crticial"
   ]
  },
  {
   "cell_type": "code",
   "execution_count": 63,
   "metadata": {},
   "outputs": [
    {
     "name": "stdout",
     "output_type": "stream",
     "text": [
      "Null Hypothesis Rejected\n"
     ]
    }
   ],
   "source": [
    "if z_value>z_crticial:\n",
    "    print(\"Null Hypothesis Rejected\")\n",
    "else:\n",
    "    print(\"Null Hypothesis Accepted\")"
   ]
  },
  {
   "cell_type": "markdown",
   "metadata": {},
   "source": [
    "### Problem Statement 17"
   ]
  },
  {
   "cell_type": "markdown",
   "metadata": {},
   "source": [
    "####  Chi-square for goodness of fit is when we have only one variable dice-rolled"
   ]
  },
  {
   "cell_type": "markdown",
   "metadata": {},
   "source": [
    "##### H0: die are unbiased i.e. (O-E) = 0\n",
    "##### H1 : die are biased i.e.  (O-E) != 0"
   ]
  },
  {
   "cell_type": "code",
   "execution_count": 64,
   "metadata": {},
   "outputs": [
    {
     "data": {
      "text/plain": [
       "[22.0, 22.0, 22.0, 22.0, 22.0, 22.0]"
      ]
     },
     "execution_count": 64,
     "metadata": {},
     "output_type": "execute_result"
    }
   ],
   "source": [
    "# for die to be unbiased every number must come equal time\n",
    "n=132\n",
    "value = [1,2,3,4,5,6]\n",
    "O = [16,20,25,14,29,28]\n",
    "E_val = n/len(value)\n",
    "E = [E_val for _ in range(len(value))]\n",
    "E"
   ]
  },
  {
   "cell_type": "code",
   "execution_count": 65,
   "metadata": {},
   "outputs": [],
   "source": [
    "def get_chisquare(O,E):\n",
    "    val = 0\n",
    "    for i in range(len(O)):\n",
    "        val += ((O[i]-E[i])**2)/E[i]\n",
    "    return val"
   ]
  },
  {
   "cell_type": "code",
   "execution_count": 66,
   "metadata": {},
   "outputs": [
    {
     "data": {
      "text/plain": [
       "9.0"
      ]
     },
     "execution_count": 66,
     "metadata": {},
     "output_type": "execute_result"
    }
   ],
   "source": [
    "chi_value=get_chisquare(O,E)\n",
    "chi_value"
   ]
  },
  {
   "cell_type": "code",
   "execution_count": 67,
   "metadata": {},
   "outputs": [
    {
     "data": {
      "text/plain": [
       "11.070497693516351"
      ]
     },
     "execution_count": 67,
     "metadata": {},
     "output_type": "execute_result"
    }
   ],
   "source": [
    "alpha = 0.05\n",
    "p= 1-alpha\n",
    "df = len(O)-1\n",
    "critical_chi=stats.chi2.ppf(p,df)\n",
    "critical_chi"
   ]
  },
  {
   "cell_type": "code",
   "execution_count": 68,
   "metadata": {},
   "outputs": [
    {
     "name": "stdout",
     "output_type": "stream",
     "text": [
      "Hypothesis Accepted\n"
     ]
    }
   ],
   "source": [
    "if (chi_value<critical_chi):\n",
    "    print(\"Hypothesis Accepted\")\n",
    "else:\n",
    "    print(\"Hypothesis Rejected\")"
   ]
  },
  {
   "cell_type": "markdown",
   "metadata": {},
   "source": [
    "#### Chi-square goodness of fit is always right tailed. As looking chi value formula i can clearly say at lowest the value will be 0 i.e. when O= E and when difference increaes value shifts towards left so only way to get hypothesis rejected is right tailed test."
   ]
  },
  {
   "cell_type": "markdown",
   "metadata": {},
   "source": [
    "### Problem Statement 18"
   ]
  },
  {
   "cell_type": "markdown",
   "metadata": {},
   "source": [
    "#### Chisquare test for independence. It is similar to goodness of fit but here it has two variable"
   ]
  },
  {
   "cell_type": "markdown",
   "metadata": {},
   "source": [
    "Formula: Expected(row,column) = (row_total * column_total) / grand_total"
   ]
  },
  {
   "cell_type": "markdown",
   "metadata": {},
   "source": [
    "##### H0: gender is independent of having voted\n",
    "##### H1: gender is dependent of having voted"
   ]
  },
  {
   "cell_type": "code",
   "execution_count": 69,
   "metadata": {},
   "outputs": [
    {
     "data": {
      "text/plain": [
       "[[2792, 3591], [1486, 2131]]"
      ]
     },
     "execution_count": 69,
     "metadata": {},
     "output_type": "execute_result"
    }
   ],
   "source": [
    "table =[[2792,3591],\n",
    "       [1486,2131]]\n",
    "table"
   ]
  },
  {
   "cell_type": "code",
   "execution_count": 70,
   "metadata": {},
   "outputs": [
    {
     "name": "stdout",
     "output_type": "stream",
     "text": [
      "dof:1 and stat:6.552337973968181\n"
     ]
    }
   ],
   "source": [
    "stat, p, dof, expected = stats.chi2_contingency(table)\n",
    "print('dof:{} and stat:{}'.format(dof,stat))"
   ]
  },
  {
   "cell_type": "code",
   "execution_count": 71,
   "metadata": {},
   "outputs": [
    {
     "data": {
      "text/plain": [
       "2.072250855822193"
      ]
     },
     "execution_count": 71,
     "metadata": {},
     "output_type": "execute_result"
    }
   ],
   "source": [
    "alpha = 0.05\n",
    "p = 1-0.05\n",
    "critical = stats.chi2.ppf(prob, dof)\n",
    "critical"
   ]
  },
  {
   "cell_type": "code",
   "execution_count": 72,
   "metadata": {},
   "outputs": [
    {
     "name": "stdout",
     "output_type": "stream",
     "text": [
      "Dependent (reject H0)\n",
      "significance=0.050, p=0.950\n",
      "Independent (fail to reject H0)\n"
     ]
    }
   ],
   "source": [
    "if abs(stat) >= critical:\n",
    "    print('Dependent (reject H0)')\n",
    "else:\n",
    "    print('Independent (fail to reject H0)')\n",
    "# interpret p-value\n",
    "\n",
    "print('significance=%.3f, p=%.3f' % (alpha, p))\n",
    "if p <= alpha:\n",
    "    print('Dependent (reject H0)')\n",
    "else:\n",
    "    print('Independent (fail to reject H0)')\n"
   ]
  },
  {
   "cell_type": "code",
   "execution_count": null,
   "metadata": {},
   "outputs": [],
   "source": []
  },
  {
   "cell_type": "markdown",
   "metadata": {},
   "source": [
    "### Problem statement 19\n",
    "\n",
    "##### Goodness of Fit"
   ]
  },
  {
   "cell_type": "markdown",
   "metadata": {},
   "source": [
    "##### H0: candidates are equally popular\n",
    "##### H1: candidates are not equally popular "
   ]
  },
  {
   "cell_type": "code",
   "execution_count": 73,
   "metadata": {},
   "outputs": [
    {
     "data": {
      "text/plain": [
       "[25.0, 25.0, 25.0, 25.0]"
      ]
     },
     "execution_count": 73,
     "metadata": {},
     "output_type": "execute_result"
    }
   ],
   "source": [
    "total_voter = 100\n",
    "vote_O = [41,19,24,16]\n",
    "E_value = total_voter/len(vote_O)\n",
    "vote_E = [E_value for _ in range(len(vote_O))]\n",
    "vote_E"
   ]
  },
  {
   "cell_type": "code",
   "execution_count": 74,
   "metadata": {},
   "outputs": [
    {
     "data": {
      "text/plain": [
       "14.959999999999999"
      ]
     },
     "execution_count": 74,
     "metadata": {},
     "output_type": "execute_result"
    }
   ],
   "source": [
    "chi_value=get_chisquare(vote_O,vote_E)\n",
    "chi_value"
   ]
  },
  {
   "cell_type": "code",
   "execution_count": 75,
   "metadata": {},
   "outputs": [
    {
     "data": {
      "text/plain": [
       "7.814727903251179"
      ]
     },
     "execution_count": 75,
     "metadata": {},
     "output_type": "execute_result"
    }
   ],
   "source": [
    "df = len(vote_O)-1\n",
    "alpha = 0.05\n",
    "p=1-alpha\n",
    "critical = stats.chi2.ppf(p,df)\n",
    "critical"
   ]
  },
  {
   "cell_type": "code",
   "execution_count": 76,
   "metadata": {},
   "outputs": [
    {
     "name": "stdout",
     "output_type": "stream",
     "text": [
      "Hypothesis Rejected\n"
     ]
    }
   ],
   "source": [
    "if (chi_value<critical_chi):\n",
    "    print(\"Hypothesis Accepted\")\n",
    "else:\n",
    "    print(\"Hypothesis Rejected\")"
   ]
  },
  {
   "cell_type": "markdown",
   "metadata": {},
   "source": [
    "### Problem Statement 20\n",
    "\n",
    "##### H0: no significant relationship between age and photograph\n",
    "##### H1:significant relationship between age and photograph"
   ]
  },
  {
   "cell_type": "code",
   "execution_count": 77,
   "metadata": {},
   "outputs": [
    {
     "data": {
      "text/plain": [
       "[[18, 22, 20], [2, 28, 40], [20, 10, 40]]"
      ]
     },
     "execution_count": 77,
     "metadata": {},
     "output_type": "execute_result"
    }
   ],
   "source": [
    "table =[[18,22,20],\n",
    "       [2,28,40],\n",
    "       [20,10,40]]\n",
    "table"
   ]
  },
  {
   "cell_type": "code",
   "execution_count": 78,
   "metadata": {},
   "outputs": [
    {
     "name": "stdout",
     "output_type": "stream",
     "text": [
      "dof:4 and stat:29.603174603174608\n"
     ]
    }
   ],
   "source": [
    "stat, p, dof, expected = stats.chi2_contingency(table)\n",
    "print('dof:{} and stat:{}'.format(dof,stat))"
   ]
  },
  {
   "cell_type": "code",
   "execution_count": 80,
   "metadata": {},
   "outputs": [
    {
     "data": {
      "text/plain": [
       "6.744883087212419"
      ]
     },
     "execution_count": 80,
     "metadata": {},
     "output_type": "execute_result"
    }
   ],
   "source": [
    "alpha = 0.05\n",
    "p = 1-0.05\n",
    "critical = stats.chi2.ppf(prob, dof)\n",
    "critical"
   ]
  },
  {
   "cell_type": "code",
   "execution_count": 81,
   "metadata": {},
   "outputs": [
    {
     "name": "stdout",
     "output_type": "stream",
     "text": [
      "Dependent (reject H0)\n",
      "significance=0.050, p=0.950\n",
      "Independent (fail to reject H0)\n"
     ]
    }
   ],
   "source": [
    "if abs(stat) >= critical:\n",
    "    print('Dependent (reject H0)')\n",
    "else:\n",
    "    print('Independent (fail to reject H0)')\n",
    "# interpret p-value\n",
    "\n",
    "print('significance=%.3f, p=%.3f' % (alpha, p))\n",
    "if p <= alpha:\n",
    "    print('Dependent (reject H0)')\n",
    "else:\n",
    "    print('Independent (fail to reject H0)')"
   ]
  },
  {
   "cell_type": "markdown",
   "metadata": {},
   "source": [
    "### Problem statement 21"
   ]
  },
  {
   "cell_type": "markdown",
   "metadata": {},
   "source": [
    "##### H0: no significant difference in support and no support\n",
    "##### H1: signigicant difference in support and no support"
   ]
  },
  {
   "cell_type": "code",
   "execution_count": 82,
   "metadata": {},
   "outputs": [
    {
     "data": {
      "text/plain": [
       "[[18, 40], [32, 10]]"
      ]
     },
     "execution_count": 82,
     "metadata": {},
     "output_type": "execute_result"
    }
   ],
   "source": [
    "table =[[18,40],\n",
    "       [32,10]]\n",
    "table"
   ]
  },
  {
   "cell_type": "code",
   "execution_count": 83,
   "metadata": {},
   "outputs": [
    {
     "name": "stdout",
     "output_type": "stream",
     "text": [
      "dof:1 and stat:18.10344827586207\n"
     ]
    }
   ],
   "source": [
    "stat, p, dof, expected = stats.chi2_contingency(table)\n",
    "print('dof:{} and stat:{}'.format(dof,stat))"
   ]
  },
  {
   "cell_type": "code",
   "execution_count": 84,
   "metadata": {},
   "outputs": [
    {
     "data": {
      "text/plain": [
       "2.072250855822193"
      ]
     },
     "execution_count": 84,
     "metadata": {},
     "output_type": "execute_result"
    }
   ],
   "source": [
    "alpha = 0.05\n",
    "p = 1-alpha\n",
    "critical = stats.chi2.ppf(prob, dof)\n",
    "critical"
   ]
  },
  {
   "cell_type": "code",
   "execution_count": 85,
   "metadata": {},
   "outputs": [
    {
     "name": "stdout",
     "output_type": "stream",
     "text": [
      "Dependent (reject H0)\n",
      "significance=0.050, p=0.950\n",
      "Independent (fail to reject H0)\n"
     ]
    }
   ],
   "source": [
    "if abs(stat) >= critical:\n",
    "    print('Dependent (reject H0)')\n",
    "else:\n",
    "    print('Independent (fail to reject H0)')\n",
    "# interpret p-value\n",
    "\n",
    "print('significance=%.3f, p=%.3f' % (alpha, p))\n",
    "if p <= alpha:\n",
    "    print('Dependent (reject H0)')\n",
    "else:\n",
    "    print('Independent (fail to reject H0)')"
   ]
  },
  {
   "cell_type": "markdown",
   "metadata": {},
   "source": [
    "### Problem 22"
   ]
  },
  {
   "cell_type": "markdown",
   "metadata": {},
   "source": [
    "##### H0: no relationship in between height and leadership quality\n",
    "##### H1: relationship in between height and leadership quality\n"
   ]
  },
  {
   "cell_type": "code",
   "execution_count": 86,
   "metadata": {},
   "outputs": [
    {
     "data": {
      "text/plain": [
       "[[12, 32], [22, 14], [9, 6]]"
      ]
     },
     "execution_count": 86,
     "metadata": {},
     "output_type": "execute_result"
    }
   ],
   "source": [
    "table =[[12,32],\n",
    "       [22,14],\n",
    "       [9,6]]\n",
    "table"
   ]
  },
  {
   "cell_type": "code",
   "execution_count": 87,
   "metadata": {},
   "outputs": [
    {
     "name": "stdout",
     "output_type": "stream",
     "text": [
      "dof:2 and stat:10.712198008709638\n"
     ]
    }
   ],
   "source": [
    "stat, p, dof, expected = stats.chi2_contingency(table)\n",
    "print('dof:{} and stat:{}'.format(dof,stat))"
   ]
  },
  {
   "cell_type": "code",
   "execution_count": 88,
   "metadata": {},
   "outputs": [
    {
     "data": {
      "text/plain": [
       "3.794239969771762"
      ]
     },
     "execution_count": 88,
     "metadata": {},
     "output_type": "execute_result"
    }
   ],
   "source": [
    "alpha = 0.01\n",
    "p = 1-alpha\n",
    "critical = stats.chi2.ppf(prob, dof)\n",
    "critical"
   ]
  },
  {
   "cell_type": "code",
   "execution_count": 89,
   "metadata": {},
   "outputs": [
    {
     "name": "stdout",
     "output_type": "stream",
     "text": [
      "Dependent (reject H0)\n",
      "significance=0.010, p=0.990\n",
      "Independent (fail to reject H0)\n"
     ]
    }
   ],
   "source": [
    "if abs(stat) >= critical:\n",
    "    print('Dependent (reject H0)')\n",
    "else:\n",
    "    print('Independent (fail to reject H0)')\n",
    "# interpret p-value\n",
    "\n",
    "print('significance=%.3f, p=%.3f' % (alpha, p))\n",
    "if p <= alpha:\n",
    "    print('Dependent (reject H0)')\n",
    "else:\n",
    "    print('Independent (fail to reject H0)')"
   ]
  },
  {
   "cell_type": "markdown",
   "metadata": {},
   "source": [
    "### Problem Statement 23"
   ]
  },
  {
   "cell_type": "markdown",
   "metadata": {},
   "source": [
    "##### H0: no relationship between married status and employment status\n",
    "##### H1: relationship between married status and employment status"
   ]
  },
  {
   "cell_type": "code",
   "execution_count": 90,
   "metadata": {},
   "outputs": [
    {
     "data": {
      "text/plain": [
       "[[679, 103, 114], [63, 10, 20], [42, 18, 25]]"
      ]
     },
     "execution_count": 90,
     "metadata": {},
     "output_type": "execute_result"
    }
   ],
   "source": [
    "table =[[679,103,114],\n",
    "       [63,10,20],\n",
    "       [42,18,25]]\n",
    "table"
   ]
  },
  {
   "cell_type": "code",
   "execution_count": 91,
   "metadata": {},
   "outputs": [
    {
     "name": "stdout",
     "output_type": "stream",
     "text": [
      "dof:4 and stat:31.61310319407798\n"
     ]
    }
   ],
   "source": [
    "stat, p, dof, expected = stats.chi2_contingency(table)\n",
    "print('dof:{} and stat:{}'.format(dof,stat))"
   ]
  },
  {
   "cell_type": "code",
   "execution_count": 92,
   "metadata": {},
   "outputs": [
    {
     "data": {
      "text/plain": [
       "6.744883087212419"
      ]
     },
     "execution_count": 92,
     "metadata": {},
     "output_type": "execute_result"
    }
   ],
   "source": [
    "alpha = 0.05\n",
    "p = 1-alpha\n",
    "critical = stats.chi2.ppf(prob, dof)\n",
    "critical"
   ]
  },
  {
   "cell_type": "code",
   "execution_count": 93,
   "metadata": {},
   "outputs": [
    {
     "name": "stdout",
     "output_type": "stream",
     "text": [
      "Dependent (reject H0)\n",
      "significance=0.050, p=0.950\n",
      "Independent (fail to reject H0)\n"
     ]
    }
   ],
   "source": [
    "if abs(stat) >= critical:\n",
    "    print('Dependent (reject H0)')\n",
    "else:\n",
    "    print('Independent (fail to reject H0)')\n",
    "# interpret p-value\n",
    "\n",
    "print('significance=%.3f, p=%.3f' % (alpha, p))\n",
    "if p <= alpha:\n",
    "    print('Dependent (reject H0)')\n",
    "else:\n",
    "    print('Independent (fail to reject H0)')"
   ]
  },
  {
   "cell_type": "code",
   "execution_count": null,
   "metadata": {},
   "outputs": [],
   "source": []
  }
 ],
 "metadata": {
  "kernelspec": {
   "display_name": "Python 3",
   "language": "python",
   "name": "python3"
  },
  "language_info": {
   "codemirror_mode": {
    "name": "ipython",
    "version": 3
   },
   "file_extension": ".py",
   "mimetype": "text/x-python",
   "name": "python",
   "nbconvert_exporter": "python",
   "pygments_lexer": "ipython3",
   "version": "3.7.4"
  }
 },
 "nbformat": 4,
 "nbformat_minor": 2
}
